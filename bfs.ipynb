{
  "nbformat": 4,
  "nbformat_minor": 0,
  "metadata": {
    "colab": {
      "name": "uwu.ipynb",
      "provenance": [],
      "collapsed_sections": [],
      "authorship_tag": "ABX9TyOxYJ4mhJhMJ5zXsoFhB5kG",
      "include_colab_link": true
    },
    "kernelspec": {
      "name": "python3",
      "display_name": "Python 3"
    }
  },
  "cells": [
    {
      "cell_type": "markdown",
      "metadata": {
        "id": "view-in-github",
        "colab_type": "text"
      },
      "source": [
        "<a href=\"https://colab.research.google.com/github/btrx/BFS-dan-DFS/blob/master/bfs.ipynb\" target=\"_parent\"><img src=\"https://colab.research.google.com/assets/colab-badge.svg\" alt=\"Open In Colab\"/></a>"
      ]
    },
    {
      "cell_type": "code",
      "metadata": {
        "id": "8v0flD-Dg3oy",
        "colab_type": "code",
        "colab": {
          "base_uri": "https://localhost:8080/",
          "height": 72
        },
        "outputId": "482d0ae9-4fbe-43cd-ba46-5931f968cd7c"
      },
      "source": [
        "# BFS\n",
        "\n",
        "peta = {'S':set(['B','A']),\n",
        "         'A':set(['S','B','D']),\n",
        "         'B':set(['S','A','C']),\n",
        "         'C':set(['E','B','D']),\n",
        "         'D':set(['C','A','F']),\n",
        "         'E':set(['Z']),\n",
        "         'Z':set(['E']),\n",
        "         'F':set(['D'])\n",
        "         }\n",
        "\n",
        "\n",
        "def bfs_lintasan_terpendek(graph, mulai, goal):\n",
        "    # mengecek semua node\n",
        "    explored = []\n",
        "    # mengecek semua jalur\n",
        "    queue = [[mulai]]\n",
        "\n",
        "    # kembali ke jalur apabila awal adalah tujuan\n",
        "    if mulai == goal:\n",
        "        return \"Awal adalah Tujuan\"\n",
        "\n",
        "    # perulangan sampai dengan semua jalur telah diperiksa\n",
        "    while queue:\n",
        "        # masukkan antrian paling depan ke variabel jalur\n",
        "        jalur = queue.pop(0)\n",
        "        # ambil node terakhir dari jalur\n",
        "        node = jalur[-1]\n",
        "        # jika node tidak sama dengan tujuan, maka cek apakah node tidak ada di explored\n",
        "        if node not in explored:\n",
        "            neighbours = graph[node] #Memasukan semua isi graph node kedalam neighbours\n",
        "            # buat jalur baru dan\n",
        "            # masukan ke dalam queue\n",
        "            for neighbour in neighbours: #cek semua neighbout dari graph node\n",
        "                jalur_baru = list(jalur) #Memasukan isi dari vaariabel jalur ke variabel jalur baru\n",
        "                jalur_baru.append(neighbour) #update/tambah isi dari jalur baru dengan neighbour\n",
        "                queue.append(jalur_baru) #update/tambah isi dari queue dengan jalur baru\n",
        "                #cek neighbour apakah sama dengan tujuan, jika ya maka return jalur baru\n",
        "                if neighbour == goal:\n",
        "                    return jalur_baru # kembali ke jalur baru apa bila neighbour benar\n",
        "\n",
        "            explored.append(node) #update/tambah isi dari explored dengan node\n",
        "\n",
        "    # dalam kasus ini tidak ada node yg diinputkan\n",
        "    return \"Mohon maaf node yang dipilih tidak ada\"\n",
        "\n",
        "\n",
        "awal = input(\"Masukan awal: \")\n",
        "tujuan = input(\"Masukan Akhir: \")\n",
        "\n",
        "print(bfs_lintasan_terpendek(peta, awal, tujuan))"
      ],
      "execution_count": 8,
      "outputs": [
        {
          "output_type": "stream",
          "text": [
            "Masukan awal: A\n",
            "Masukan Akhir: Z\n",
            "['A', 'B', 'C', 'E', 'Z']\n"
          ],
          "name": "stdout"
        }
      ]
    }
  ]
}